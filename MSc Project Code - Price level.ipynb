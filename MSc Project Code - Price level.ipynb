{
 "cells": [
  {
   "cell_type": "markdown",
   "metadata": {},
   "source": [
    "# Forecasting Gold Prices using Gated Recurrent Units (GRUs)"
   ]
  },
  {
   "cell_type": "markdown",
   "metadata": {},
   "source": [
    "## Contents Page\n",
    "\n",
    "1. Section 1: Introduction\n",
    "  * Section 1.1: Outline\n",
    "  * Section 1.2: Loading the Data\n",
    "2. Section 2: Data Preparation\n",
    "  * Section 2.1: Duplicate data\n",
    "  * Section 2.2: Missing values\n",
    "  * Section 2.3: Outliers\n",
    "  * Section 2.4: Setting the target variable\n",
    "  * Section 2.5: Feature selection\n",
    "  * Section 2.6: Scaling\n",
    "  * Section 2.7: Splitting the data\n",
    "3. Section 3: Training and evaluation\n",
    "  * Section 3.1: Linear regression\n",
    "  * Section 3.2: GRU"
   ]
  },
  {
   "cell_type": "markdown",
   "metadata": {},
   "source": [
    "## Section 1: Introduction\n",
    "\n",
    "Our ML pipeline is the following. Load the data, Clean the data (outliers, duplicates, missing values), split the data into train, test and validation sets, scale the data, train the models, evaluate the models performance on the test set."
   ]
  },
  {
   "cell_type": "code",
   "execution_count": 1,
   "metadata": {},
   "outputs": [],
   "source": [
    "import pandas as pd\n",
    "import numpy as np\n",
    "import matplotlib.pyplot as plt\n",
    "import seaborn as sns\n",
    "from sklearn.model_selection import TimeSeriesSplit\n",
    "from sklearn.linear_model import LinearRegression\n",
    "from sklearn.metrics import mean_squared_error, r2_score\n",
    "from sklearn.metrics import mean_absolute_error\n",
    "from sklearn.preprocessing import StandardScaler\n",
    "from sklearn.preprocessing import MinMaxScaler\n",
    "%matplotlib inline\n",
    "sns.set_style(\"darkgrid\")"
   ]
  },
  {
   "cell_type": "code",
   "execution_count": 2,
   "metadata": {},
   "outputs": [],
   "source": [
    "import my_utils as mu\n",
    "import torch\n",
    "from torch.utils import data\n",
    "from torch import nn\n",
    "from IPython import display"
   ]
  },
  {
   "cell_type": "markdown",
   "metadata": {},
   "source": [
    "### Section 1.1: Outline\n",
    "\n",
    "Section 1 is the intro which loads the data. Section 2 we begin data preparation and derive the variables. Section 3 we carry out exploratory analysis to begin analysing relationships between variables. In Section 4, we carry out our regression to get an accurate measure of the relationships between predictor and target variables."
   ]
  },
  {
   "cell_type": "markdown",
   "metadata": {},
   "source": [
    "### Section 1.2: Loading the data\n",
    "\n",
    "The data is loaded from a CSV file. The date is used as an index in this dataset."
   ]
  },
  {
   "cell_type": "code",
   "execution_count": 3,
   "metadata": {},
   "outputs": [
    {
     "data": {
      "text/html": [
       "<div>\n",
       "<style scoped>\n",
       "    .dataframe tbody tr th:only-of-type {\n",
       "        vertical-align: middle;\n",
       "    }\n",
       "\n",
       "    .dataframe tbody tr th {\n",
       "        vertical-align: top;\n",
       "    }\n",
       "\n",
       "    .dataframe thead th {\n",
       "        text-align: right;\n",
       "    }\n",
       "</style>\n",
       "<table border=\"1\" class=\"dataframe\">\n",
       "  <thead>\n",
       "    <tr style=\"text-align: right;\">\n",
       "      <th></th>\n",
       "      <th>Close</th>\n",
       "      <th>Volume</th>\n",
       "      <th>Open</th>\n",
       "      <th>High</th>\n",
       "      <th>Low</th>\n",
       "    </tr>\n",
       "    <tr>\n",
       "      <th>Date</th>\n",
       "      <th></th>\n",
       "      <th></th>\n",
       "      <th></th>\n",
       "      <th></th>\n",
       "      <th></th>\n",
       "    </tr>\n",
       "  </thead>\n",
       "  <tbody>\n",
       "    <tr>\n",
       "      <th>2012-06-11</th>\n",
       "      <td>1596.8</td>\n",
       "      <td>109042.0</td>\n",
       "      <td>1602.8</td>\n",
       "      <td>1609.3</td>\n",
       "      <td>1582.8</td>\n",
       "    </tr>\n",
       "    <tr>\n",
       "      <th>2012-06-12</th>\n",
       "      <td>1613.8</td>\n",
       "      <td>140522.0</td>\n",
       "      <td>1595.4</td>\n",
       "      <td>1618.8</td>\n",
       "      <td>1587.1</td>\n",
       "    </tr>\n",
       "    <tr>\n",
       "      <th>2012-06-13</th>\n",
       "      <td>1619.4</td>\n",
       "      <td>121539.0</td>\n",
       "      <td>1611.1</td>\n",
       "      <td>1625.8</td>\n",
       "      <td>1607.0</td>\n",
       "    </tr>\n",
       "    <tr>\n",
       "      <th>2012-06-14</th>\n",
       "      <td>1619.6</td>\n",
       "      <td>132247.0</td>\n",
       "      <td>1619.0</td>\n",
       "      <td>1628.9</td>\n",
       "      <td>1610.5</td>\n",
       "    </tr>\n",
       "    <tr>\n",
       "      <th>2012-06-15</th>\n",
       "      <td>1628.1</td>\n",
       "      <td>112994.0</td>\n",
       "      <td>1624.0</td>\n",
       "      <td>1634.5</td>\n",
       "      <td>1620.8</td>\n",
       "    </tr>\n",
       "  </tbody>\n",
       "</table>\n",
       "</div>"
      ],
      "text/plain": [
       "             Close    Volume    Open    High     Low\n",
       "Date                                                \n",
       "2012-06-11  1596.8  109042.0  1602.8  1609.3  1582.8\n",
       "2012-06-12  1613.8  140522.0  1595.4  1618.8  1587.1\n",
       "2012-06-13  1619.4  121539.0  1611.1  1625.8  1607.0\n",
       "2012-06-14  1619.6  132247.0  1619.0  1628.9  1610.5\n",
       "2012-06-15  1628.1  112994.0  1624.0  1634.5  1620.8"
      ]
     },
     "execution_count": 3,
     "metadata": {},
     "output_type": "execute_result"
    }
   ],
   "source": [
    "# Loading the dataframe\n",
    "gold_prices = pd.read_csv('Gold_Historical.csv',na_values=['null'],index_col='Date',parse_dates=True,infer_datetime_format=True)\n",
    "gold_prices.sort_values(by='Date', inplace=True)\n",
    "gold_prices = gold_prices.rename(columns={'Close/Last': 'Close'})\n",
    "\n",
    "# Printing the first 5 rows\n",
    "gold_prices.head()"
   ]
  },
  {
   "cell_type": "code",
   "execution_count": 4,
   "metadata": {},
   "outputs": [
    {
     "data": {
      "text/plain": [
       "(2551, 5)"
      ]
     },
     "execution_count": 4,
     "metadata": {},
     "output_type": "execute_result"
    }
   ],
   "source": [
    "gold_prices.shape"
   ]
  },
  {
   "cell_type": "markdown",
   "metadata": {},
   "source": [
    "## Section 2: Data Preparation\n",
    "\n",
    "In this section we prepare the data for exploratory analysis. We clean the data and condense it to allow it to be interpreted more smoothly and to reduce the amount of noise that will affect possible patterns that could be identified. Tasks such as merging columns and handling missing values will be conducted."
   ]
  },
  {
   "cell_type": "markdown",
   "metadata": {},
   "source": [
    "### Section 2.1: Duplicate data"
   ]
  },
  {
   "cell_type": "code",
   "execution_count": 5,
   "metadata": {},
   "outputs": [],
   "source": [
    "gold_prices[(gold_prices.duplicated() == True)]\n",
    "gold_prices = gold_prices.drop_duplicates()"
   ]
  },
  {
   "cell_type": "markdown",
   "metadata": {},
   "source": [
    "### Section 2.2: Missing values\n",
    "\n",
    "We need to deal with null or missing values in the dataset. The existence of null values in the dataset causes issues during training since they function as outliers. We need to decide what's the best course of action for the null values as there are multiple ways to deal with them. We also need to understand what they mean as we could be omitting important data points."
   ]
  },
  {
   "cell_type": "code",
   "execution_count": 6,
   "metadata": {},
   "outputs": [
    {
     "name": "stdout",
     "output_type": "stream",
     "text": [
      "Dataframe shape:  (2549, 5)\n",
      "Null values present:  Close     False\n",
      "Volume     True\n",
      "Open      False\n",
      "High      False\n",
      "Low       False\n",
      "dtype: bool\n"
     ]
    },
    {
     "data": {
      "text/html": [
       "<div>\n",
       "<style scoped>\n",
       "    .dataframe tbody tr th:only-of-type {\n",
       "        vertical-align: middle;\n",
       "    }\n",
       "\n",
       "    .dataframe tbody tr th {\n",
       "        vertical-align: top;\n",
       "    }\n",
       "\n",
       "    .dataframe thead th {\n",
       "        text-align: right;\n",
       "    }\n",
       "</style>\n",
       "<table border=\"1\" class=\"dataframe\">\n",
       "  <thead>\n",
       "    <tr style=\"text-align: right;\">\n",
       "      <th></th>\n",
       "      <th>Close</th>\n",
       "      <th>Volume</th>\n",
       "      <th>Open</th>\n",
       "      <th>High</th>\n",
       "      <th>Low</th>\n",
       "    </tr>\n",
       "    <tr>\n",
       "      <th>Date</th>\n",
       "      <th></th>\n",
       "      <th></th>\n",
       "      <th></th>\n",
       "      <th></th>\n",
       "      <th></th>\n",
       "    </tr>\n",
       "  </thead>\n",
       "  <tbody>\n",
       "    <tr>\n",
       "      <th>2012-06-11</th>\n",
       "      <td>1596.8</td>\n",
       "      <td>109042.0</td>\n",
       "      <td>1602.8</td>\n",
       "      <td>1609.3</td>\n",
       "      <td>1582.8</td>\n",
       "    </tr>\n",
       "    <tr>\n",
       "      <th>2012-06-12</th>\n",
       "      <td>1613.8</td>\n",
       "      <td>140522.0</td>\n",
       "      <td>1595.4</td>\n",
       "      <td>1618.8</td>\n",
       "      <td>1587.1</td>\n",
       "    </tr>\n",
       "    <tr>\n",
       "      <th>2012-06-13</th>\n",
       "      <td>1619.4</td>\n",
       "      <td>121539.0</td>\n",
       "      <td>1611.1</td>\n",
       "      <td>1625.8</td>\n",
       "      <td>1607.0</td>\n",
       "    </tr>\n",
       "    <tr>\n",
       "      <th>2012-06-14</th>\n",
       "      <td>1619.6</td>\n",
       "      <td>132247.0</td>\n",
       "      <td>1619.0</td>\n",
       "      <td>1628.9</td>\n",
       "      <td>1610.5</td>\n",
       "    </tr>\n",
       "    <tr>\n",
       "      <th>2012-06-15</th>\n",
       "      <td>1628.1</td>\n",
       "      <td>112994.0</td>\n",
       "      <td>1624.0</td>\n",
       "      <td>1634.5</td>\n",
       "      <td>1620.8</td>\n",
       "    </tr>\n",
       "    <tr>\n",
       "      <th>...</th>\n",
       "      <td>...</td>\n",
       "      <td>...</td>\n",
       "      <td>...</td>\n",
       "      <td>...</td>\n",
       "      <td>...</td>\n",
       "    </tr>\n",
       "    <tr>\n",
       "      <th>2022-06-03</th>\n",
       "      <td>1850.2</td>\n",
       "      <td>110502.0</td>\n",
       "      <td>1872.6</td>\n",
       "      <td>1878.6</td>\n",
       "      <td>1849.7</td>\n",
       "    </tr>\n",
       "    <tr>\n",
       "      <th>2022-06-06</th>\n",
       "      <td>1843.7</td>\n",
       "      <td>95742.0</td>\n",
       "      <td>1853.7</td>\n",
       "      <td>1861.2</td>\n",
       "      <td>1843.0</td>\n",
       "    </tr>\n",
       "    <tr>\n",
       "      <th>2022-06-07</th>\n",
       "      <td>1852.1</td>\n",
       "      <td>115125.0</td>\n",
       "      <td>1843.5</td>\n",
       "      <td>1858.2</td>\n",
       "      <td>1838.5</td>\n",
       "    </tr>\n",
       "    <tr>\n",
       "      <th>2022-06-08</th>\n",
       "      <td>1856.5</td>\n",
       "      <td>110022.0</td>\n",
       "      <td>1855.0</td>\n",
       "      <td>1862.4</td>\n",
       "      <td>1846.6</td>\n",
       "    </tr>\n",
       "    <tr>\n",
       "      <th>2022-06-09</th>\n",
       "      <td>1852.8</td>\n",
       "      <td>123946.0</td>\n",
       "      <td>1855.1</td>\n",
       "      <td>1857.8</td>\n",
       "      <td>1841.9</td>\n",
       "    </tr>\n",
       "  </tbody>\n",
       "</table>\n",
       "<p>2511 rows × 5 columns</p>\n",
       "</div>"
      ],
      "text/plain": [
       "             Close    Volume    Open    High     Low\n",
       "Date                                                \n",
       "2012-06-11  1596.8  109042.0  1602.8  1609.3  1582.8\n",
       "2012-06-12  1613.8  140522.0  1595.4  1618.8  1587.1\n",
       "2012-06-13  1619.4  121539.0  1611.1  1625.8  1607.0\n",
       "2012-06-14  1619.6  132247.0  1619.0  1628.9  1610.5\n",
       "2012-06-15  1628.1  112994.0  1624.0  1634.5  1620.8\n",
       "...            ...       ...     ...     ...     ...\n",
       "2022-06-03  1850.2  110502.0  1872.6  1878.6  1849.7\n",
       "2022-06-06  1843.7   95742.0  1853.7  1861.2  1843.0\n",
       "2022-06-07  1852.1  115125.0  1843.5  1858.2  1838.5\n",
       "2022-06-08  1856.5  110022.0  1855.0  1862.4  1846.6\n",
       "2022-06-09  1852.8  123946.0  1855.1  1857.8  1841.9\n",
       "\n",
       "[2511 rows x 5 columns]"
      ]
     },
     "execution_count": 6,
     "metadata": {},
     "output_type": "execute_result"
    }
   ],
   "source": [
    "print(\"Dataframe shape: \", gold_prices.shape)\n",
    "print(\"Null values present: \", gold_prices.isnull().any())\n",
    "gold_prices[gold_prices.isnull().any(axis=1)]\n",
    "\n",
    "gold_prices = gold_prices.dropna()\n",
    "gold_prices"
   ]
  },
  {
   "cell_type": "markdown",
   "metadata": {},
   "source": [
    "### Section 2.3: Outliers"
   ]
  },
  {
   "cell_type": "code",
   "execution_count": 7,
   "metadata": {},
   "outputs": [
    {
     "data": {
      "text/html": [
       "<div>\n",
       "<style scoped>\n",
       "    .dataframe tbody tr th:only-of-type {\n",
       "        vertical-align: middle;\n",
       "    }\n",
       "\n",
       "    .dataframe tbody tr th {\n",
       "        vertical-align: top;\n",
       "    }\n",
       "\n",
       "    .dataframe thead th {\n",
       "        text-align: right;\n",
       "    }\n",
       "</style>\n",
       "<table border=\"1\" class=\"dataframe\">\n",
       "  <thead>\n",
       "    <tr style=\"text-align: right;\">\n",
       "      <th></th>\n",
       "      <th>Close</th>\n",
       "      <th>Volume</th>\n",
       "      <th>Open</th>\n",
       "      <th>High</th>\n",
       "      <th>Low</th>\n",
       "    </tr>\n",
       "  </thead>\n",
       "  <tbody>\n",
       "    <tr>\n",
       "      <th>count</th>\n",
       "      <td>2511.000000</td>\n",
       "      <td>2511.000000</td>\n",
       "      <td>2511.000000</td>\n",
       "      <td>2511.000000</td>\n",
       "      <td>2511.000000</td>\n",
       "    </tr>\n",
       "    <tr>\n",
       "      <th>mean</th>\n",
       "      <td>1436.640422</td>\n",
       "      <td>180159.045798</td>\n",
       "      <td>1436.647710</td>\n",
       "      <td>1446.100000</td>\n",
       "      <td>1426.834648</td>\n",
       "    </tr>\n",
       "    <tr>\n",
       "      <th>std</th>\n",
       "      <td>253.697662</td>\n",
       "      <td>98145.357273</td>\n",
       "      <td>253.851912</td>\n",
       "      <td>255.477046</td>\n",
       "      <td>251.484837</td>\n",
       "    </tr>\n",
       "    <tr>\n",
       "      <th>min</th>\n",
       "      <td>1049.600000</td>\n",
       "      <td>1.000000</td>\n",
       "      <td>1051.500000</td>\n",
       "      <td>1062.700000</td>\n",
       "      <td>1045.400000</td>\n",
       "    </tr>\n",
       "    <tr>\n",
       "      <th>25%</th>\n",
       "      <td>1244.250000</td>\n",
       "      <td>117423.000000</td>\n",
       "      <td>1244.050000</td>\n",
       "      <td>1251.700000</td>\n",
       "      <td>1235.900000</td>\n",
       "    </tr>\n",
       "    <tr>\n",
       "      <th>50%</th>\n",
       "      <td>1319.200000</td>\n",
       "      <td>166626.000000</td>\n",
       "      <td>1320.300000</td>\n",
       "      <td>1328.000000</td>\n",
       "      <td>1311.800000</td>\n",
       "    </tr>\n",
       "    <tr>\n",
       "      <th>75%</th>\n",
       "      <td>1682.300000</td>\n",
       "      <td>230055.000000</td>\n",
       "      <td>1679.000000</td>\n",
       "      <td>1695.250000</td>\n",
       "      <td>1666.300000</td>\n",
       "    </tr>\n",
       "    <tr>\n",
       "      <th>max</th>\n",
       "      <td>2069.400000</td>\n",
       "      <td>787217.000000</td>\n",
       "      <td>2076.400000</td>\n",
       "      <td>2082.100000</td>\n",
       "      <td>2049.000000</td>\n",
       "    </tr>\n",
       "  </tbody>\n",
       "</table>\n",
       "</div>"
      ],
      "text/plain": [
       "             Close         Volume         Open         High          Low\n",
       "count  2511.000000    2511.000000  2511.000000  2511.000000  2511.000000\n",
       "mean   1436.640422  180159.045798  1436.647710  1446.100000  1426.834648\n",
       "std     253.697662   98145.357273   253.851912   255.477046   251.484837\n",
       "min    1049.600000       1.000000  1051.500000  1062.700000  1045.400000\n",
       "25%    1244.250000  117423.000000  1244.050000  1251.700000  1235.900000\n",
       "50%    1319.200000  166626.000000  1320.300000  1328.000000  1311.800000\n",
       "75%    1682.300000  230055.000000  1679.000000  1695.250000  1666.300000\n",
       "max    2069.400000  787217.000000  2076.400000  2082.100000  2049.000000"
      ]
     },
     "execution_count": 7,
     "metadata": {},
     "output_type": "execute_result"
    }
   ],
   "source": [
    "gold_prices.describe()"
   ]
  },
  {
   "cell_type": "code",
   "execution_count": 8,
   "metadata": {},
   "outputs": [
    {
     "name": "stdout",
     "output_type": "stream",
     "text": [
      "Values lower than the 5th percentile : 33258.0 are considered outliers due to little trading activity\n"
     ]
    },
    {
     "data": {
      "image/png": "[encoded data removed]",
      "text/plain": [
       "<Figure size 640x480 with 1 Axes>"
      ]
     },
     "metadata": {},
     "output_type": "display_data"
    }
   ],
   "source": [
    "box = sns.boxplot(x=gold_prices.Volume)\n",
    "\n",
    "# Bottom 5% of values in the dataset \n",
    "p = np.percentile(gold_prices.Volume, 5)\n",
    "p\n",
    "  \n",
    "#Outlier boundaries\n",
    "print('Values lower than the 5th percentile :', p, 'are considered outliers due to little trading activity')"
   ]
  },
  {
   "cell_type": "code",
   "execution_count": 9,
   "metadata": {},
   "outputs": [
    {
     "data": {
      "text/html": [
       "<div>\n",
       "<style scoped>\n",
       "    .dataframe tbody tr th:only-of-type {\n",
       "        vertical-align: middle;\n",
       "    }\n",
       "\n",
       "    .dataframe tbody tr th {\n",
       "        vertical-align: top;\n",
       "    }\n",
       "\n",
       "    .dataframe thead th {\n",
       "        text-align: right;\n",
       "    }\n",
       "</style>\n",
       "<table border=\"1\" class=\"dataframe\">\n",
       "  <thead>\n",
       "    <tr style=\"text-align: right;\">\n",
       "      <th></th>\n",
       "      <th>Close</th>\n",
       "      <th>Volume</th>\n",
       "      <th>Open</th>\n",
       "      <th>High</th>\n",
       "      <th>Low</th>\n",
       "    </tr>\n",
       "    <tr>\n",
       "      <th>Date</th>\n",
       "      <th></th>\n",
       "      <th></th>\n",
       "      <th></th>\n",
       "      <th></th>\n",
       "      <th></th>\n",
       "    </tr>\n",
       "  </thead>\n",
       "  <tbody>\n",
       "    <tr>\n",
       "      <th>2012-06-21</th>\n",
       "      <td>1565.5</td>\n",
       "      <td>15315.0</td>\n",
       "      <td>1565.5</td>\n",
       "      <td>1565.5</td>\n",
       "      <td>1565.5</td>\n",
       "    </tr>\n",
       "    <tr>\n",
       "      <th>2012-07-31</th>\n",
       "      <td>1614.6</td>\n",
       "      <td>6673.0</td>\n",
       "      <td>1614.5</td>\n",
       "      <td>1614.5</td>\n",
       "      <td>1614.5</td>\n",
       "    </tr>\n",
       "    <tr>\n",
       "      <th>2012-08-07</th>\n",
       "      <td>1612.8</td>\n",
       "      <td>78.0</td>\n",
       "      <td>1614.7</td>\n",
       "      <td>1615.0</td>\n",
       "      <td>1614.4</td>\n",
       "    </tr>\n",
       "    <tr>\n",
       "      <th>2012-10-08</th>\n",
       "      <td>1775.7</td>\n",
       "      <td>1218.0</td>\n",
       "      <td>1777.8</td>\n",
       "      <td>1778.4</td>\n",
       "      <td>1775.8</td>\n",
       "    </tr>\n",
       "    <tr>\n",
       "      <th>2013-05-09</th>\n",
       "      <td>1468.6</td>\n",
       "      <td>8501.0</td>\n",
       "      <td>1468.6</td>\n",
       "      <td>1468.6</td>\n",
       "      <td>1468.6</td>\n",
       "    </tr>\n",
       "    <tr>\n",
       "      <th>...</th>\n",
       "      <td>...</td>\n",
       "      <td>...</td>\n",
       "      <td>...</td>\n",
       "      <td>...</td>\n",
       "      <td>...</td>\n",
       "    </tr>\n",
       "    <tr>\n",
       "      <th>2020-05-22</th>\n",
       "      <td>1734.6</td>\n",
       "      <td>6.0</td>\n",
       "      <td>1726.6</td>\n",
       "      <td>1726.7</td>\n",
       "      <td>1726.6</td>\n",
       "    </tr>\n",
       "    <tr>\n",
       "      <th>2020-05-29</th>\n",
       "      <td>1736.9</td>\n",
       "      <td>1406.0</td>\n",
       "      <td>1718.8</td>\n",
       "      <td>1738.3</td>\n",
       "      <td>1715.1</td>\n",
       "    </tr>\n",
       "    <tr>\n",
       "      <th>2021-03-18</th>\n",
       "      <td>1734.6</td>\n",
       "      <td>18942.0</td>\n",
       "      <td>1745.9</td>\n",
       "      <td>1756.0</td>\n",
       "      <td>1719.1</td>\n",
       "    </tr>\n",
       "    <tr>\n",
       "      <th>2021-11-17</th>\n",
       "      <td>1872.8</td>\n",
       "      <td>30319.0</td>\n",
       "      <td>1854.5</td>\n",
       "      <td>1873.1</td>\n",
       "      <td>1853.8</td>\n",
       "    </tr>\n",
       "    <tr>\n",
       "      <th>2022-03-17</th>\n",
       "      <td>1948.2</td>\n",
       "      <td>32640.0</td>\n",
       "      <td>1933.4</td>\n",
       "      <td>1955.6</td>\n",
       "      <td>1929.0</td>\n",
       "    </tr>\n",
       "  </tbody>\n",
       "</table>\n",
       "<p>126 rows × 5 columns</p>\n",
       "</div>"
      ],
      "text/plain": [
       "             Close   Volume    Open    High     Low\n",
       "Date                                               \n",
       "2012-06-21  1565.5  15315.0  1565.5  1565.5  1565.5\n",
       "2012-07-31  1614.6   6673.0  1614.5  1614.5  1614.5\n",
       "2012-08-07  1612.8     78.0  1614.7  1615.0  1614.4\n",
       "2012-10-08  1775.7   1218.0  1777.8  1778.4  1775.8\n",
       "2013-05-09  1468.6   8501.0  1468.6  1468.6  1468.6\n",
       "...            ...      ...     ...     ...     ...\n",
       "2020-05-22  1734.6      6.0  1726.6  1726.7  1726.6\n",
       "2020-05-29  1736.9   1406.0  1718.8  1738.3  1715.1\n",
       "2021-03-18  1734.6  18942.0  1745.9  1756.0  1719.1\n",
       "2021-11-17  1872.8  30319.0  1854.5  1873.1  1853.8\n",
       "2022-03-17  1948.2  32640.0  1933.4  1955.6  1929.0\n",
       "\n",
       "[126 rows x 5 columns]"
      ]
     },
     "execution_count": 9,
     "metadata": {},
     "output_type": "execute_result"
    }
   ],
   "source": [
    "gold_prices.loc[(gold_prices['Volume'] <= p)]"
   ]
  },
  {
   "cell_type": "code",
   "execution_count": 10,
   "metadata": {},
   "outputs": [
    {
     "data": {
      "text/html": [
       "<div>\n",
       "<style scoped>\n",
       "    .dataframe tbody tr th:only-of-type {\n",
       "        vertical-align: middle;\n",
       "    }\n",
       "\n",
       "    .dataframe tbody tr th {\n",
       "        vertical-align: top;\n",
       "    }\n",
       "\n",
       "    .dataframe thead th {\n",
       "        text-align: right;\n",
       "    }\n",
       "</style>\n",
       "<table border=\"1\" class=\"dataframe\">\n",
       "  <thead>\n",
       "    <tr style=\"text-align: right;\">\n",
       "      <th></th>\n",
       "      <th>Close</th>\n",
       "      <th>Volume</th>\n",
       "      <th>Open</th>\n",
       "      <th>High</th>\n",
       "      <th>Low</th>\n",
       "    </tr>\n",
       "    <tr>\n",
       "      <th>Date</th>\n",
       "      <th></th>\n",
       "      <th></th>\n",
       "      <th></th>\n",
       "      <th></th>\n",
       "      <th></th>\n",
       "    </tr>\n",
       "  </thead>\n",
       "  <tbody>\n",
       "    <tr>\n",
       "      <th>2012-06-11</th>\n",
       "      <td>1596.8</td>\n",
       "      <td>109042.0</td>\n",
       "      <td>1602.8</td>\n",
       "      <td>1609.3</td>\n",
       "      <td>1582.8</td>\n",
       "    </tr>\n",
       "    <tr>\n",
       "      <th>2012-06-12</th>\n",
       "      <td>1613.8</td>\n",
       "      <td>140522.0</td>\n",
       "      <td>1595.4</td>\n",
       "      <td>1618.8</td>\n",
       "      <td>1587.1</td>\n",
       "    </tr>\n",
       "    <tr>\n",
       "      <th>2012-06-13</th>\n",
       "      <td>1619.4</td>\n",
       "      <td>121539.0</td>\n",
       "      <td>1611.1</td>\n",
       "      <td>1625.8</td>\n",
       "      <td>1607.0</td>\n",
       "    </tr>\n",
       "    <tr>\n",
       "      <th>2012-06-14</th>\n",
       "      <td>1619.6</td>\n",
       "      <td>132247.0</td>\n",
       "      <td>1619.0</td>\n",
       "      <td>1628.9</td>\n",
       "      <td>1610.5</td>\n",
       "    </tr>\n",
       "    <tr>\n",
       "      <th>2012-06-15</th>\n",
       "      <td>1628.1</td>\n",
       "      <td>112994.0</td>\n",
       "      <td>1624.0</td>\n",
       "      <td>1634.5</td>\n",
       "      <td>1620.8</td>\n",
       "    </tr>\n",
       "    <tr>\n",
       "      <th>...</th>\n",
       "      <td>...</td>\n",
       "      <td>...</td>\n",
       "      <td>...</td>\n",
       "      <td>...</td>\n",
       "      <td>...</td>\n",
       "    </tr>\n",
       "    <tr>\n",
       "      <th>2022-06-03</th>\n",
       "      <td>1850.2</td>\n",
       "      <td>110502.0</td>\n",
       "      <td>1872.6</td>\n",
       "      <td>1878.6</td>\n",
       "      <td>1849.7</td>\n",
       "    </tr>\n",
       "    <tr>\n",
       "      <th>2022-06-06</th>\n",
       "      <td>1843.7</td>\n",
       "      <td>95742.0</td>\n",
       "      <td>1853.7</td>\n",
       "      <td>1861.2</td>\n",
       "      <td>1843.0</td>\n",
       "    </tr>\n",
       "    <tr>\n",
       "      <th>2022-06-07</th>\n",
       "      <td>1852.1</td>\n",
       "      <td>115125.0</td>\n",
       "      <td>1843.5</td>\n",
       "      <td>1858.2</td>\n",
       "      <td>1838.5</td>\n",
       "    </tr>\n",
       "    <tr>\n",
       "      <th>2022-06-08</th>\n",
       "      <td>1856.5</td>\n",
       "      <td>110022.0</td>\n",
       "      <td>1855.0</td>\n",
       "      <td>1862.4</td>\n",
       "      <td>1846.6</td>\n",
       "    </tr>\n",
       "    <tr>\n",
       "      <th>2022-06-09</th>\n",
       "      <td>1852.8</td>\n",
       "      <td>123946.0</td>\n",
       "      <td>1855.1</td>\n",
       "      <td>1857.8</td>\n",
       "      <td>1841.9</td>\n",
       "    </tr>\n",
       "  </tbody>\n",
       "</table>\n",
       "<p>2385 rows × 5 columns</p>\n",
       "</div>"
      ],
      "text/plain": [
       "             Close    Volume    Open    High     Low\n",
       "Date                                                \n",
       "2012-06-11  1596.8  109042.0  1602.8  1609.3  1582.8\n",
       "2012-06-12  1613.8  140522.0  1595.4  1618.8  1587.1\n",
       "2012-06-13  1619.4  121539.0  1611.1  1625.8  1607.0\n",
       "2012-06-14  1619.6  132247.0  1619.0  1628.9  1610.5\n",
       "2012-06-15  1628.1  112994.0  1624.0  1634.5  1620.8\n",
       "...            ...       ...     ...     ...     ...\n",
       "2022-06-03  1850.2  110502.0  1872.6  1878.6  1849.7\n",
       "2022-06-06  1843.7   95742.0  1853.7  1861.2  1843.0\n",
       "2022-06-07  1852.1  115125.0  1843.5  1858.2  1838.5\n",
       "2022-06-08  1856.5  110022.0  1855.0  1862.4  1846.6\n",
       "2022-06-09  1852.8  123946.0  1855.1  1857.8  1841.9\n",
       "\n",
       "[2385 rows x 5 columns]"
      ]
     },
     "execution_count": 10,
     "metadata": {},
     "output_type": "execute_result"
    }
   ],
   "source": [
    "# Drops outliers. \n",
    "gold_prices.drop(gold_prices[gold_prices.Volume <= p].index, inplace=True)\n",
    "\n",
    "gold_prices"
   ]
  },
  {
   "cell_type": "code",
   "execution_count": 11,
   "metadata": {},
   "outputs": [
    {
     "data": {
      "text/html": [
       "<div>\n",
       "<style scoped>\n",
       "    .dataframe tbody tr th:only-of-type {\n",
       "        vertical-align: middle;\n",
       "    }\n",
       "\n",
       "    .dataframe tbody tr th {\n",
       "        vertical-align: top;\n",
       "    }\n",
       "\n",
       "    .dataframe thead th {\n",
       "        text-align: right;\n",
       "    }\n",
       "</style>\n",
       "<table border=\"1\" class=\"dataframe\">\n",
       "  <thead>\n",
       "    <tr style=\"text-align: right;\">\n",
       "      <th></th>\n",
       "      <th>Close</th>\n",
       "      <th>Volume</th>\n",
       "      <th>Open</th>\n",
       "      <th>High</th>\n",
       "      <th>Low</th>\n",
       "    </tr>\n",
       "  </thead>\n",
       "  <tbody>\n",
       "    <tr>\n",
       "      <th>count</th>\n",
       "      <td>2385.000000</td>\n",
       "      <td>2385.000000</td>\n",
       "      <td>2385.000000</td>\n",
       "      <td>2385.000000</td>\n",
       "      <td>2385.000000</td>\n",
       "    </tr>\n",
       "    <tr>\n",
       "      <th>mean</th>\n",
       "      <td>1436.569224</td>\n",
       "      <td>189407.353040</td>\n",
       "      <td>1436.765493</td>\n",
       "      <td>1446.237610</td>\n",
       "      <td>1426.739161</td>\n",
       "    </tr>\n",
       "    <tr>\n",
       "      <th>std</th>\n",
       "      <td>256.636514</td>\n",
       "      <td>91825.966831</td>\n",
       "      <td>256.919300</td>\n",
       "      <td>258.422918</td>\n",
       "      <td>254.518685</td>\n",
       "    </tr>\n",
       "    <tr>\n",
       "      <th>min</th>\n",
       "      <td>1049.600000</td>\n",
       "      <td>33301.000000</td>\n",
       "      <td>1051.500000</td>\n",
       "      <td>1062.700000</td>\n",
       "      <td>1045.400000</td>\n",
       "    </tr>\n",
       "    <tr>\n",
       "      <th>25%</th>\n",
       "      <td>1243.400000</td>\n",
       "      <td>125318.000000</td>\n",
       "      <td>1242.800000</td>\n",
       "      <td>1250.800000</td>\n",
       "      <td>1235.100000</td>\n",
       "    </tr>\n",
       "    <tr>\n",
       "      <th>50%</th>\n",
       "      <td>1317.800000</td>\n",
       "      <td>170463.000000</td>\n",
       "      <td>1318.000000</td>\n",
       "      <td>1325.300000</td>\n",
       "      <td>1309.600000</td>\n",
       "    </tr>\n",
       "    <tr>\n",
       "      <th>75%</th>\n",
       "      <td>1694.000000</td>\n",
       "      <td>233796.000000</td>\n",
       "      <td>1695.700000</td>\n",
       "      <td>1708.300000</td>\n",
       "      <td>1683.000000</td>\n",
       "    </tr>\n",
       "    <tr>\n",
       "      <th>max</th>\n",
       "      <td>2069.400000</td>\n",
       "      <td>787217.000000</td>\n",
       "      <td>2076.400000</td>\n",
       "      <td>2082.100000</td>\n",
       "      <td>2049.000000</td>\n",
       "    </tr>\n",
       "  </tbody>\n",
       "</table>\n",
       "</div>"
      ],
      "text/plain": [
       "             Close         Volume         Open         High          Low\n",
       "count  2385.000000    2385.000000  2385.000000  2385.000000  2385.000000\n",
       "mean   1436.569224  189407.353040  1436.765493  1446.237610  1426.739161\n",
       "std     256.636514   91825.966831   256.919300   258.422918   254.518685\n",
       "min    1049.600000   33301.000000  1051.500000  1062.700000  1045.400000\n",
       "25%    1243.400000  125318.000000  1242.800000  1250.800000  1235.100000\n",
       "50%    1317.800000  170463.000000  1318.000000  1325.300000  1309.600000\n",
       "75%    1694.000000  233796.000000  1695.700000  1708.300000  1683.000000\n",
       "max    2069.400000  787217.000000  2076.400000  2082.100000  2049.000000"
      ]
     },
     "execution_count": 11,
     "metadata": {},
     "output_type": "execute_result"
    }
   ],
   "source": [
    "gold_prices.describe()"
   ]
  },
  {
   "cell_type": "markdown",
   "metadata": {},
   "source": [
    "### Section 2.4: Setting the Target Variable (Close price)\n",
    "\n",
    "* The Close Value is the final output value that will be forecasted using the Machine Learning models. This figure indicates the stock’s closing price on that particular day of stock market trading. This is assigned to the target variable."
   ]
  },
  {
   "cell_type": "code",
   "execution_count": 12,
   "metadata": {},
   "outputs": [
    {
     "data": {
      "text/html": [
       "<div>\n",
       "<style scoped>\n",
       "    .dataframe tbody tr th:only-of-type {\n",
       "        vertical-align: middle;\n",
       "    }\n",
       "\n",
       "    .dataframe tbody tr th {\n",
       "        vertical-align: top;\n",
       "    }\n",
       "\n",
       "    .dataframe thead th {\n",
       "        text-align: right;\n",
       "    }\n",
       "</style>\n",
       "<table border=\"1\" class=\"dataframe\">\n",
       "  <thead>\n",
       "    <tr style=\"text-align: right;\">\n",
       "      <th></th>\n",
       "      <th>Target</th>\n",
       "      <th>Volume</th>\n",
       "      <th>Open</th>\n",
       "      <th>High</th>\n",
       "      <th>Low</th>\n",
       "    </tr>\n",
       "    <tr>\n",
       "      <th>Date</th>\n",
       "      <th></th>\n",
       "      <th></th>\n",
       "      <th></th>\n",
       "      <th></th>\n",
       "      <th></th>\n",
       "    </tr>\n",
       "  </thead>\n",
       "  <tbody>\n",
       "    <tr>\n",
       "      <th>2012-06-11</th>\n",
       "      <td>1596.8</td>\n",
       "      <td>109042.0</td>\n",
       "      <td>1602.8</td>\n",
       "      <td>1609.3</td>\n",
       "      <td>1582.8</td>\n",
       "    </tr>\n",
       "    <tr>\n",
       "      <th>2012-06-12</th>\n",
       "      <td>1613.8</td>\n",
       "      <td>140522.0</td>\n",
       "      <td>1595.4</td>\n",
       "      <td>1618.8</td>\n",
       "      <td>1587.1</td>\n",
       "    </tr>\n",
       "    <tr>\n",
       "      <th>2012-06-13</th>\n",
       "      <td>1619.4</td>\n",
       "      <td>121539.0</td>\n",
       "      <td>1611.1</td>\n",
       "      <td>1625.8</td>\n",
       "      <td>1607.0</td>\n",
       "    </tr>\n",
       "    <tr>\n",
       "      <th>2012-06-14</th>\n",
       "      <td>1619.6</td>\n",
       "      <td>132247.0</td>\n",
       "      <td>1619.0</td>\n",
       "      <td>1628.9</td>\n",
       "      <td>1610.5</td>\n",
       "    </tr>\n",
       "    <tr>\n",
       "      <th>2012-06-15</th>\n",
       "      <td>1628.1</td>\n",
       "      <td>112994.0</td>\n",
       "      <td>1624.0</td>\n",
       "      <td>1634.5</td>\n",
       "      <td>1620.8</td>\n",
       "    </tr>\n",
       "    <tr>\n",
       "      <th>...</th>\n",
       "      <td>...</td>\n",
       "      <td>...</td>\n",
       "      <td>...</td>\n",
       "      <td>...</td>\n",
       "      <td>...</td>\n",
       "    </tr>\n",
       "    <tr>\n",
       "      <th>2022-06-03</th>\n",
       "      <td>1850.2</td>\n",
       "      <td>110502.0</td>\n",
       "      <td>1872.6</td>\n",
       "      <td>1878.6</td>\n",
       "      <td>1849.7</td>\n",
       "    </tr>\n",
       "    <tr>\n",
       "      <th>2022-06-06</th>\n",
       "      <td>1843.7</td>\n",
       "      <td>95742.0</td>\n",
       "      <td>1853.7</td>\n",
       "      <td>1861.2</td>\n",
       "      <td>1843.0</td>\n",
       "    </tr>\n",
       "    <tr>\n",
       "      <th>2022-06-07</th>\n",
       "      <td>1852.1</td>\n",
       "      <td>115125.0</td>\n",
       "      <td>1843.5</td>\n",
       "      <td>1858.2</td>\n",
       "      <td>1838.5</td>\n",
       "    </tr>\n",
       "    <tr>\n",
       "      <th>2022-06-08</th>\n",
       "      <td>1856.5</td>\n",
       "      <td>110022.0</td>\n",
       "      <td>1855.0</td>\n",
       "      <td>1862.4</td>\n",
       "      <td>1846.6</td>\n",
       "    </tr>\n",
       "    <tr>\n",
       "      <th>2022-06-09</th>\n",
       "      <td>1852.8</td>\n",
       "      <td>123946.0</td>\n",
       "      <td>1855.1</td>\n",
       "      <td>1857.8</td>\n",
       "      <td>1841.9</td>\n",
       "    </tr>\n",
       "  </tbody>\n",
       "</table>\n",
       "<p>2385 rows × 5 columns</p>\n",
       "</div>"
      ],
      "text/plain": [
       "            Target    Volume    Open    High     Low\n",
       "Date                                                \n",
       "2012-06-11  1596.8  109042.0  1602.8  1609.3  1582.8\n",
       "2012-06-12  1613.8  140522.0  1595.4  1618.8  1587.1\n",
       "2012-06-13  1619.4  121539.0  1611.1  1625.8  1607.0\n",
       "2012-06-14  1619.6  132247.0  1619.0  1628.9  1610.5\n",
       "2012-06-15  1628.1  112994.0  1624.0  1634.5  1620.8\n",
       "...            ...       ...     ...     ...     ...\n",
       "2022-06-03  1850.2  110502.0  1872.6  1878.6  1849.7\n",
       "2022-06-06  1843.7   95742.0  1853.7  1861.2  1843.0\n",
       "2022-06-07  1852.1  115125.0  1843.5  1858.2  1838.5\n",
       "2022-06-08  1856.5  110022.0  1855.0  1862.4  1846.6\n",
       "2022-06-09  1852.8  123946.0  1855.1  1857.8  1841.9\n",
       "\n",
       "[2385 rows x 5 columns]"
      ]
     },
     "execution_count": 12,
     "metadata": {},
     "output_type": "execute_result"
    }
   ],
   "source": [
    "#Set Target Variable\n",
    "gold_prices = gold_prices.rename(columns={'Close': 'Target'})\n",
    "gold_prices"
   ]
  },
  {
   "cell_type": "code",
   "execution_count": 13,
   "metadata": {},
   "outputs": [],
   "source": [
    "target = gold_prices.Target"
   ]
  },
  {
   "cell_type": "code",
   "execution_count": 14,
   "metadata": {},
   "outputs": [
    {
     "data": {
      "image/png": "[encoded data removed]",
      "text/plain": [
       "<Figure size 1000x600 with 1 Axes>"
      ]
     },
     "metadata": {},
     "output_type": "display_data"
    }
   ],
   "source": [
    "# Visualisation of the target variable (Close price)\n",
    "fig, (a1) = plt.subplots(1, 1, figsize=(10, 6))\n",
    "a1.set_title('Gold Closing Prices (10 Years)',fontsize=16)\n",
    "a1.plot(gold_prices.Target)\n",
    "a1.set_ylabel('Price', fontsize=16)\n",
    "a1.set_xlabel('Year', fontsize=16)\n",
    "\n",
    "a1.tick_params(axis='both', which='major', labelsize=14)\n",
    "a1.tick_params(axis='both', which='minor', labelsize=14)"
   ]
  },
  {
   "cell_type": "markdown",
   "metadata": {},
   "source": [
    "### Section 2.5: Feature selection\n",
    "\n",
    "* We will be creating a new feature called daily volatility. This along with open price will be the two features used to predict the closing price. Daily volatility is calculated using (high-low)/open as a proxy. The open, high and low are highly correlated so may be telling us similar information."
   ]
  },
  {
   "cell_type": "code",
   "execution_count": 15,
   "metadata": {},
   "outputs": [],
   "source": [
    "# Daily volatility \n",
    "gold_prices['Daily Volatility'] = ((gold_prices['High'] - gold_prices['Low']) / gold_prices['Open'])\n",
    "gold_prices = gold_prices.drop(columns = ['High','Low'])"
   ]
  },
  {
   "cell_type": "code",
   "execution_count": 16,
   "metadata": {},
   "outputs": [],
   "source": [
    "# Previous close\n",
    "gold_prices['Previous Close'] = gold_prices['Target'].shift()\n",
    "gold_prices = gold_prices.dropna()"
   ]
  },
  {
   "cell_type": "code",
   "execution_count": 17,
   "metadata": {},
   "outputs": [],
   "source": [
    "gold_prices = gold_prices.drop(columns = ['Target'])"
   ]
  },
  {
   "cell_type": "markdown",
   "metadata": {},
   "source": [
    "### Section 2.6: Scaling"
   ]
  },
  {
   "cell_type": "code",
   "execution_count": 18,
   "metadata": {},
   "outputs": [
    {
     "data": {
      "text/html": [
       "<div>\n",
       "<style scoped>\n",
       "    .dataframe tbody tr th:only-of-type {\n",
       "        vertical-align: middle;\n",
       "    }\n",
       "\n",
       "    .dataframe tbody tr th {\n",
       "        vertical-align: top;\n",
       "    }\n",
       "\n",
       "    .dataframe thead th {\n",
       "        text-align: right;\n",
       "    }\n",
       "</style>\n",
       "<table border=\"1\" class=\"dataframe\">\n",
       "  <thead>\n",
       "    <tr style=\"text-align: right;\">\n",
       "      <th></th>\n",
       "      <th>Volume</th>\n",
       "      <th>Open</th>\n",
       "      <th>Daily Volatility</th>\n",
       "      <th>Previous Close</th>\n",
       "    </tr>\n",
       "    <tr>\n",
       "      <th>Date</th>\n",
       "      <th></th>\n",
       "      <th></th>\n",
       "      <th></th>\n",
       "      <th></th>\n",
       "    </tr>\n",
       "  </thead>\n",
       "  <tbody>\n",
       "    <tr>\n",
       "      <th>2012-06-12</th>\n",
       "      <td>0.142219</td>\n",
       "      <td>0.530686</td>\n",
       "      <td>0.223054</td>\n",
       "      <td>0.536576</td>\n",
       "    </tr>\n",
       "    <tr>\n",
       "      <th>2012-06-13</th>\n",
       "      <td>0.117040</td>\n",
       "      <td>0.546004</td>\n",
       "      <td>0.128899</td>\n",
       "      <td>0.553246</td>\n",
       "    </tr>\n",
       "    <tr>\n",
       "      <th>2012-06-14</th>\n",
       "      <td>0.131243</td>\n",
       "      <td>0.553713</td>\n",
       "      <td>0.125409</td>\n",
       "      <td>0.558737</td>\n",
       "    </tr>\n",
       "    <tr>\n",
       "      <th>2012-06-15</th>\n",
       "      <td>0.105705</td>\n",
       "      <td>0.558591</td>\n",
       "      <td>0.091779</td>\n",
       "      <td>0.558933</td>\n",
       "    </tr>\n",
       "    <tr>\n",
       "      <th>2012-06-18</th>\n",
       "      <td>0.106542</td>\n",
       "      <td>0.541907</td>\n",
       "      <td>0.167833</td>\n",
       "      <td>0.567268</td>\n",
       "    </tr>\n",
       "  </tbody>\n",
       "</table>\n",
       "</div>"
      ],
      "text/plain": [
       "              Volume      Open  Daily Volatility  Previous Close\n",
       "Date                                                            \n",
       "2012-06-12  0.142219  0.530686          0.223054        0.536576\n",
       "2012-06-13  0.117040  0.546004          0.128899        0.553246\n",
       "2012-06-14  0.131243  0.553713          0.125409        0.558737\n",
       "2012-06-15  0.105705  0.558591          0.091779        0.558933\n",
       "2012-06-18  0.106542  0.541907          0.167833        0.567268"
      ]
     },
     "execution_count": 18,
     "metadata": {},
     "output_type": "execute_result"
    }
   ],
   "source": [
    "#Training\n",
    "scaler = MinMaxScaler()\n",
    "gold_prices_scaled = scaler.fit_transform(gold_prices)\n",
    "gold_prices_scaled = pd.DataFrame(columns=gold_prices.columns, data=gold_prices_scaled, index=gold_prices.index)\n",
    "gold_prices_scaled.head()"
   ]
  },
  {
   "cell_type": "code",
   "execution_count": 19,
   "metadata": {},
   "outputs": [],
   "source": [
    "gold_prices = gold_prices_scaled"
   ]
  },
  {
   "cell_type": "code",
   "execution_count": 20,
   "metadata": {},
   "outputs": [],
   "source": [
    "gold_prices['Target'] = target"
   ]
  },
  {
   "cell_type": "code",
   "execution_count": 21,
   "metadata": {},
   "outputs": [
    {
     "data": {
      "text/html": [
       "<div>\n",
       "<style scoped>\n",
       "    .dataframe tbody tr th:only-of-type {\n",
       "        vertical-align: middle;\n",
       "    }\n",
       "\n",
       "    .dataframe tbody tr th {\n",
       "        vertical-align: top;\n",
       "    }\n",
       "\n",
       "    .dataframe thead th {\n",
       "        text-align: right;\n",
       "    }\n",
       "</style>\n",
       "<table border=\"1\" class=\"dataframe\">\n",
       "  <thead>\n",
       "    <tr style=\"text-align: right;\">\n",
       "      <th></th>\n",
       "      <th>Volume</th>\n",
       "      <th>Open</th>\n",
       "      <th>Daily Volatility</th>\n",
       "      <th>Previous Close</th>\n",
       "      <th>Target</th>\n",
       "    </tr>\n",
       "    <tr>\n",
       "      <th>Date</th>\n",
       "      <th></th>\n",
       "      <th></th>\n",
       "      <th></th>\n",
       "      <th></th>\n",
       "      <th></th>\n",
       "    </tr>\n",
       "  </thead>\n",
       "  <tbody>\n",
       "    <tr>\n",
       "      <th>2012-06-12</th>\n",
       "      <td>0.142219</td>\n",
       "      <td>0.530686</td>\n",
       "      <td>0.223054</td>\n",
       "      <td>0.536576</td>\n",
       "      <td>1613.8</td>\n",
       "    </tr>\n",
       "    <tr>\n",
       "      <th>2012-06-13</th>\n",
       "      <td>0.117040</td>\n",
       "      <td>0.546004</td>\n",
       "      <td>0.128899</td>\n",
       "      <td>0.553246</td>\n",
       "      <td>1619.4</td>\n",
       "    </tr>\n",
       "    <tr>\n",
       "      <th>2012-06-14</th>\n",
       "      <td>0.131243</td>\n",
       "      <td>0.553713</td>\n",
       "      <td>0.125409</td>\n",
       "      <td>0.558737</td>\n",
       "      <td>1619.6</td>\n",
       "    </tr>\n",
       "    <tr>\n",
       "      <th>2012-06-15</th>\n",
       "      <td>0.105705</td>\n",
       "      <td>0.558591</td>\n",
       "      <td>0.091779</td>\n",
       "      <td>0.558933</td>\n",
       "      <td>1628.1</td>\n",
       "    </tr>\n",
       "    <tr>\n",
       "      <th>2012-06-18</th>\n",
       "      <td>0.106542</td>\n",
       "      <td>0.541907</td>\n",
       "      <td>0.167833</td>\n",
       "      <td>0.567268</td>\n",
       "      <td>1627.0</td>\n",
       "    </tr>\n",
       "    <tr>\n",
       "      <th>...</th>\n",
       "      <td>...</td>\n",
       "      <td>...</td>\n",
       "      <td>...</td>\n",
       "      <td>...</td>\n",
       "      <td>...</td>\n",
       "    </tr>\n",
       "    <tr>\n",
       "      <th>2022-06-03</th>\n",
       "      <td>0.102400</td>\n",
       "      <td>0.801151</td>\n",
       "      <td>0.172116</td>\n",
       "      <td>0.805844</td>\n",
       "      <td>1850.2</td>\n",
       "    </tr>\n",
       "    <tr>\n",
       "      <th>2022-06-06</th>\n",
       "      <td>0.082822</td>\n",
       "      <td>0.782711</td>\n",
       "      <td>0.107649</td>\n",
       "      <td>0.785056</td>\n",
       "      <td>1843.7</td>\n",
       "    </tr>\n",
       "    <tr>\n",
       "      <th>2022-06-07</th>\n",
       "      <td>0.108532</td>\n",
       "      <td>0.772758</td>\n",
       "      <td>0.117615</td>\n",
       "      <td>0.778682</td>\n",
       "      <td>1852.1</td>\n",
       "    </tr>\n",
       "    <tr>\n",
       "      <th>2022-06-08</th>\n",
       "      <td>0.101763</td>\n",
       "      <td>0.783979</td>\n",
       "      <td>0.092715</td>\n",
       "      <td>0.786919</td>\n",
       "      <td>1856.5</td>\n",
       "    </tr>\n",
       "    <tr>\n",
       "      <th>2022-06-09</th>\n",
       "      <td>0.120232</td>\n",
       "      <td>0.784076</td>\n",
       "      <td>0.093329</td>\n",
       "      <td>0.791234</td>\n",
       "      <td>1852.8</td>\n",
       "    </tr>\n",
       "  </tbody>\n",
       "</table>\n",
       "<p>2384 rows × 5 columns</p>\n",
       "</div>"
      ],
      "text/plain": [
       "              Volume      Open  Daily Volatility  Previous Close  Target\n",
       "Date                                                                    \n",
       "2012-06-12  0.142219  0.530686          0.223054        0.536576  1613.8\n",
       "2012-06-13  0.117040  0.546004          0.128899        0.553246  1619.4\n",
       "2012-06-14  0.131243  0.553713          0.125409        0.558737  1619.6\n",
       "2012-06-15  0.105705  0.558591          0.091779        0.558933  1628.1\n",
       "2012-06-18  0.106542  0.541907          0.167833        0.567268  1627.0\n",
       "...              ...       ...               ...             ...     ...\n",
       "2022-06-03  0.102400  0.801151          0.172116        0.805844  1850.2\n",
       "2022-06-06  0.082822  0.782711          0.107649        0.785056  1843.7\n",
       "2022-06-07  0.108532  0.772758          0.117615        0.778682  1852.1\n",
       "2022-06-08  0.101763  0.783979          0.092715        0.786919  1856.5\n",
       "2022-06-09  0.120232  0.784076          0.093329        0.791234  1852.8\n",
       "\n",
       "[2384 rows x 5 columns]"
      ]
     },
     "execution_count": 21,
     "metadata": {},
     "output_type": "execute_result"
    }
   ],
   "source": [
    "gold_prices"
   ]
  },
  {
   "cell_type": "markdown",
   "metadata": {},
   "source": [
    "### Section 2.7: Splitting the dataset"
   ]
  },
  {
   "cell_type": "code",
   "execution_count": 22,
   "metadata": {},
   "outputs": [],
   "source": [
    "from sklearn.model_selection import train_test_split\n",
    "from sklearn import preprocessing\n",
    "from sklearn.preprocessing import MinMaxScaler"
   ]
  },
  {
   "cell_type": "markdown",
   "metadata": {},
   "source": [
    "* The first 4.5 years of daily data will be used as our training set the next 3 years will be used as a validation set and the last 2.5 years is the test set. The following script divides the data into training and test sets."
   ]
  },
  {
   "cell_type": "code",
   "execution_count": 23,
   "metadata": {},
   "outputs": [],
   "source": [
    "# # Checking for colinearity\n",
    "# plt.plot(gold_prices['Target'])\n",
    "# plt.plot(gold_prices['Open'])"
   ]
  },
  {
   "cell_type": "code",
   "execution_count": 24,
   "metadata": {},
   "outputs": [
    {
     "data": {
      "text/plain": [
       "[<matplotlib.lines.Line2D at 0x15adb411f70>]"
      ]
     },
     "execution_count": 24,
     "metadata": {},
     "output_type": "execute_result"
    },
    {
     "data": {
      "image/png": "[encoded data removed]",
      "text/plain": [
       "<Figure size 640x480 with 1 Axes>"
      ]
     },
     "metadata": {},
     "output_type": "display_data"
    }
   ],
   "source": [
    "# Plotting intra day volatility\n",
    "plt.plot(gold_prices['Daily Volatility'])"
   ]
  },
  {
   "cell_type": "code",
   "execution_count": 25,
   "metadata": {},
   "outputs": [
    {
     "name": "stdout",
     "output_type": "stream",
     "text": [
      "Training set: (1116, 5)\n",
      "Validation set (690, 5)\n",
      "Test set: (578, 5)\n"
     ]
    }
   ],
   "source": [
    "train = gold_prices['2012-06-09':'2016-12-31'] # Train set, trained model generates predictions for the target variable.\n",
    "validation = gold_prices['2017-01-01':'2019-12-31'] # Validation set, used for hyperparameter tuning.\n",
    "test = gold_prices['2020-01-01':'2022-06-09'] # Test set, used to evaluate performance of our trained model.\n",
    "print('Training set:', train.shape)\n",
    "print('Validation set', validation.shape)\n",
    "print('Test set:', test.shape)"
   ]
  },
  {
   "cell_type": "code",
   "execution_count": 26,
   "metadata": {},
   "outputs": [
    {
     "data": {
      "image/png": "[encoded data removed]",
      "text/plain": [
       "<Figure size 1000x600 with 1 Axes>"
      ]
     },
     "metadata": {},
     "output_type": "display_data"
    }
   ],
   "source": [
    "# Plotting true values of train, validation and test.\n",
    "fig = plt.figure()\n",
    "plt.plot(train.Target, label='Training set')\n",
    "plt.plot(validation.Target, label='Validation set', color='green')\n",
    "plt.plot(test.Target, label='Test set', color='orange')\n",
    "plt.legend();\n",
    "\n",
    "plt.xlabel('Year', fontsize=16)\n",
    "plt.ylabel('Price', fontsize=16)\n",
    "\n",
    "plt.xticks(fontsize=14)\n",
    "plt.yticks(fontsize=14)\n",
    "\n",
    "fig.set_figheight(6)\n",
    "fig.set_figwidth(10)"
   ]
  },
  {
   "cell_type": "code",
   "execution_count": 27,
   "metadata": {},
   "outputs": [],
   "source": [
    "X_train = train.drop(columns = 'Target')\n",
    "y_train = train.Target\n",
    "\n",
    "X_valid = validation.drop(columns = 'Target')\n",
    "y_valid = validation.Target\n",
    "\n",
    "X_test = test.drop(columns = 'Target')\n",
    "y_test = test.Target"
   ]
  },
  {
   "cell_type": "code",
   "execution_count": 28,
   "metadata": {},
   "outputs": [
    {
     "name": "stdout",
     "output_type": "stream",
     "text": [
      "(1116, 4) (690, 4) (578, 4) (1116,) (690,) (578,)\n"
     ]
    }
   ],
   "source": [
    "print(X_train.shape, X_valid.shape, X_test.shape, y_train.shape, y_valid.shape, y_test.shape)"
   ]
  },
  {
   "cell_type": "markdown",
   "metadata": {},
   "source": [
    "## Section 3: Training and evaluation"
   ]
  },
  {
   "cell_type": "markdown",
   "metadata": {},
   "source": [
    "### 3.1: Linear regression"
   ]
  },
  {
   "cell_type": "code",
   "execution_count": 29,
   "metadata": {},
   "outputs": [],
   "source": [
    "import math, time"
   ]
  },
  {
   "cell_type": "code",
   "execution_count": 30,
   "metadata": {},
   "outputs": [],
   "source": [
    "start = time.time()\n",
    "lr = LinearRegression()\n",
    "lr.fit(X_train, y_train)\n",
    "stop = time.time()"
   ]
  },
  {
   "cell_type": "code",
   "execution_count": 31,
   "metadata": {},
   "outputs": [
    {
     "name": "stdout",
     "output_type": "stream",
     "text": [
      "Train Score: 11.709 RMSE\n",
      "Validation Score: 8.985 RMSE\n",
      "Test Score: 18.674 RMSE\n"
     ]
    }
   ],
   "source": [
    "# calculate mean squared error\n",
    "predict_train = lr.predict(X_train)\n",
    "trainScore_lr = mean_squared_error(y_train, predict_train, squared=False)\n",
    "print('Train Score: %.3f RMSE' % (trainScore_lr))\n",
    "predict_valid = lr.predict(X_valid)\n",
    "validScore_lr = mean_squared_error(y_valid, predict_valid, squared=False)\n",
    "print('Validation Score: %.3f RMSE' % (validScore_lr))\n",
    "predict_test = lr.predict(X_test)\n",
    "testScore_lr = mean_squared_error(y_test, predict_test, squared=False)\n",
    "print('Test Score: %.3f RMSE' % (testScore_lr))"
   ]
  },
  {
   "cell_type": "code",
   "execution_count": 32,
   "metadata": {},
   "outputs": [
    {
     "name": "stdout",
     "output_type": "stream",
     "text": [
      "Train Score: 8.473 MAE\n",
      "Validation Score: 7.099 MAE\n",
      "Test Score: 13.620 MAE\n"
     ]
    }
   ],
   "source": [
    "# calculate mean absolute error\n",
    "train_mae_lr = mean_absolute_error(y_train, predict_train)\n",
    "print('Train Score: %.3f MAE' % (train_mae_lr))\n",
    "valid_mae_lr = mean_absolute_error(y_valid, predict_valid)\n",
    "print('Validation Score: %.3f MAE' % (valid_mae_lr))\n",
    "test_mae_lr = mean_absolute_error(y_test, predict_test)\n",
    "print('Test Score: %.3f MAE' % (test_mae_lr))"
   ]
  },
  {
   "cell_type": "code",
   "execution_count": 33,
   "metadata": {},
   "outputs": [
    {
     "name": "stdout",
     "output_type": "stream",
     "text": [
      "Train Score: 0.996 r2\n",
      "Validation Score: 0.989 r2\n",
      "Test Score: 0.965 r2\n"
     ]
    }
   ],
   "source": [
    "# calculate r2\n",
    "train_r2_lr = r2_score(y_train, predict_train)\n",
    "print('Train Score: %.3f r2' % (train_r2_lr))\n",
    "valid_r2_lr = r2_score(y_valid, predict_valid)\n",
    "print('Validation Score: %.3f r2' % (valid_r2_lr))\n",
    "test_r2_lr = r2_score(y_test, predict_test)\n",
    "print('Test Score: %.3f r2' % (test_r2_lr))"
   ]
  },
  {
   "cell_type": "code",
   "execution_count": 34,
   "metadata": {},
   "outputs": [
    {
     "name": "stdout",
     "output_type": "stream",
     "text": [
      "Training time: 0.03s\n"
     ]
    }
   ],
   "source": [
    "training_time_lr = round((stop - start),2)\n",
    "print(f\"Training time: {training_time_lr}s\")"
   ]
  },
  {
   "cell_type": "markdown",
   "metadata": {},
   "source": [
    "### Section 3.2: GRU\n",
    "\n",
    "We essentially choose the amount of time steps from the previous data we want to include in to the model. We can choose only the previous day / year or the last 3 days etc to influence the gradient of the current time step. time step, batch size and number of features is the tensor for the design matrix"
   ]
  },
  {
   "cell_type": "markdown",
   "metadata": {},
   "source": [
    "#### Data processing "
   ]
  },
  {
   "cell_type": "code",
   "execution_count": 35,
   "metadata": {},
   "outputs": [],
   "source": [
    "#Process the data for GRU\n",
    "X_train = np.array(X_train).reshape(X_train.shape[0], 1, X_train.shape[1])\n",
    "X_valid = np.array(X_valid).reshape(X_valid.shape[0], 1, X_valid.shape[1])\n",
    "X_test = np.array(X_test).reshape(X_test.shape[0], 1, X_test.shape[1])"
   ]
  },
  {
   "cell_type": "code",
   "execution_count": 36,
   "metadata": {},
   "outputs": [
    {
     "name": "stdout",
     "output_type": "stream",
     "text": [
      "(1116, 1, 4) (690, 1, 4) (578, 1, 4) (1116,) (690,) (578,)\n"
     ]
    }
   ],
   "source": [
    "print(X_train.shape, X_valid.shape, X_test.shape, y_train.shape, y_valid.shape, y_test.shape)"
   ]
  },
  {
   "cell_type": "code",
   "execution_count": 37,
   "metadata": {},
   "outputs": [],
   "source": [
    "# Creating tensors for training\n",
    "X_train = torch.tensor(X_train.astype(np.float32))\n",
    "y_train_numpy = y_train\n",
    "y_train = torch.tensor(y_train.astype(np.float32))\n",
    "y_train = y_train.unsqueeze(1)\n",
    "\n",
    "# Creating tensors for validation\n",
    "X_valid = torch.tensor(X_valid.astype(np.float32))\n",
    "y_valid_numpy = y_valid\n",
    "y_valid = torch.tensor(y_valid.astype(np.float32))\n",
    "y_valid = y_valid.unsqueeze(1)\n",
    "                    \n",
    "# Creating tensors for testing\n",
    "X_test = torch.tensor(X_test.astype(np.float32))\n",
    "y_test_numpy = y_test\n",
    "y_test = torch.tensor(y_test.astype(np.float32))\n",
    "y_test = y_test.unsqueeze(1)"
   ]
  },
  {
   "cell_type": "code",
   "execution_count": 38,
   "metadata": {},
   "outputs": [
    {
     "name": "stdout",
     "output_type": "stream",
     "text": [
      "torch.Size([1116, 1, 4]) torch.Size([690, 1, 4]) torch.Size([578, 1, 4]) torch.Size([1116, 1]) torch.Size([690, 1]) torch.Size([578, 1])\n"
     ]
    }
   ],
   "source": [
    "print(X_train.shape, X_valid.shape, X_test.shape, y_train.shape, y_valid.shape, y_test.shape)"
   ]
  },
  {
   "cell_type": "code",
   "execution_count": 39,
   "metadata": {},
   "outputs": [
    {
     "name": "stdout",
     "output_type": "stream",
     "text": [
      "(tensor([[0.1422, 0.5307, 0.2231, 0.5366]]), tensor([1613.8000]))\n"
     ]
    }
   ],
   "source": [
    "import torch.utils.data as data_utils\n",
    "\n",
    "# Passing to DataLoader\n",
    "train_dataset = data.TensorDataset(X_train, y_train) #TensorDataset object\n",
    "print(train_dataset[0]) #First example in our dataset. Inputs and output."
   ]
  },
  {
   "cell_type": "markdown",
   "metadata": {},
   "source": [
    "#### Defining the model"
   ]
  },
  {
   "cell_type": "code",
   "execution_count": 40,
   "metadata": {},
   "outputs": [],
   "source": [
    "class GRU(nn.Module):\n",
    "    def __init__(self, input_dim, hidden_dim, num_layers, output_dim):\n",
    "        super(GRU, self).__init__()\n",
    "        self.hidden_dim = hidden_dim\n",
    "        self.num_layers = num_layers\n",
    "        \n",
    "        self.gru = nn.GRU(input_dim, hidden_dim, num_layers, batch_first=True)\n",
    "        self.fc = nn.Linear(hidden_dim, output_dim)\n",
    "\n",
    "    def forward(self, x):\n",
    "        h0 = torch.zeros(self.num_layers, x.size(0), self.hidden_dim).requires_grad_()\n",
    "        out, (hn) = self.gru(x, (h0.detach()))\n",
    "        out = self.fc(out[:, -1, :]) \n",
    "        return out"
   ]
  },
  {
   "cell_type": "markdown",
   "metadata": {},
   "source": [
    "#### Training and prediction"
   ]
  },
  {
   "cell_type": "code",
   "execution_count": 41,
   "metadata": {},
   "outputs": [],
   "source": [
    "def train_gru(batch_size, lr, num_epochs, hidden_dim, num_layers):\n",
    "    train_iter = data.DataLoader(train_dataset, batch_size, shuffle=False) #DataLoader object\n",
    "    # Double checking our data loader is in the right dimensions.\n",
    "    train_features, train_labels = next(iter(train_iter))\n",
    "    print(f\"Feature batch shape: {train_features.size()}\")\n",
    "    print(f\"Labels batch shape: {train_labels.size()}\")\n",
    "\n",
    "    input_dim = X_train.shape[-1]\n",
    "    output_dim = y_train.shape[-1]\n",
    "\n",
    "    model = GRU(input_dim=input_dim, hidden_dim=hidden_dim, output_dim=output_dim, num_layers=num_layers)\n",
    "    loss = torch.nn.MSELoss(reduction='mean')\n",
    "    optimizer = torch.optim.Adam(model.parameters(), lr)\n",
    "\n",
    "    hist = np.zeros(num_epochs)\n",
    "#     start_time = time.time()\n",
    "\n",
    "    for epoch in range(num_epochs):\n",
    "        model.train()\n",
    "        for X, y in train_iter:\n",
    "            y_hat = model(X)\n",
    "\n",
    "            l = loss(y_hat, y)\n",
    "            hist[epoch] = l.item()\n",
    "\n",
    "            optimizer.zero_grad()\n",
    "            l.backward()\n",
    "            optimizer.step()\n",
    "\n",
    "        l = loss(model(X_train), y_train)\n",
    "\n",
    "\n",
    "        model.eval()\n",
    "        predict_train = model(X_train)\n",
    "        predict_train = pd.DataFrame(predict_train.detach().numpy())\n",
    "        trainScore = mean_squared_error(y_train_numpy, predict_train, squared=False)\n",
    "        predict_valid = model(X_valid)\n",
    "        predict_valid = pd.DataFrame(predict_valid.detach().numpy())\n",
    "        validScore = mean_squared_error(y_valid_numpy, predict_valid, squared=False)\n",
    "        print(f'epoch {epoch + 1}, loss {l:f} Train RMSE Score: {trainScore:.2f},  Valid RMSE Score: {validScore:.2f}')\n",
    "    return model, validScore, hist"
   ]
  },
  {
   "cell_type": "code",
   "execution_count": 42,
   "metadata": {},
   "outputs": [
    {
     "name": "stdout",
     "output_type": "stream",
     "text": [
      "Trying {'batch_size': 128, 'lr': 0.5, 'num_epochs': 100, 'hidden_dim': 1000, 'num_layers': 20}\n",
      "Feature batch shape: torch.Size([128, 1, 4])\n",
      "Labels batch shape: torch.Size([128, 1])\n",
      "epoch 1, loss 123147.695312 Train RMSE Score: 350.92,  Valid RMSE Score: 330.15\n",
      "epoch 2, loss 34120.832031 Train RMSE Score: 184.72,  Valid RMSE Score: 102.45\n"
     ]
    },
    {
     "ename": "KeyboardInterrupt",
     "evalue": "",
     "output_type": "error",
     "traceback": [
      "\u001b[1;31m---------------------------------------------------------------------------\u001b[0m",
      "\u001b[1;31mKeyboardInterrupt\u001b[0m                         Traceback (most recent call last)",
      "\u001b[1;32m~\\AppData\\Local\\Temp\\ipykernel_13508\\799007404.py\u001b[0m in \u001b[0;36m<module>\u001b[1;34m\u001b[0m\n\u001b[0;32m     16\u001b[0m                 \u001b[0mparams\u001b[0m \u001b[1;33m=\u001b[0m \u001b[0mdict\u001b[0m\u001b[1;33m(\u001b[0m\u001b[0mbatch_size\u001b[0m\u001b[1;33m=\u001b[0m\u001b[0mbatch_size\u001b[0m\u001b[1;33m,\u001b[0m \u001b[0mlr\u001b[0m\u001b[1;33m=\u001b[0m\u001b[0mlr\u001b[0m\u001b[1;33m,\u001b[0m \u001b[0mnum_epochs\u001b[0m\u001b[1;33m=\u001b[0m\u001b[0mnum_epochs\u001b[0m\u001b[1;33m,\u001b[0m \u001b[0mhidden_dim\u001b[0m\u001b[1;33m=\u001b[0m\u001b[0mhidden_dim\u001b[0m\u001b[1;33m,\u001b[0m \u001b[0mnum_layers\u001b[0m\u001b[1;33m=\u001b[0m\u001b[0mnum_layers\u001b[0m\u001b[1;33m)\u001b[0m\u001b[1;33m\u001b[0m\u001b[1;33m\u001b[0m\u001b[0m\n\u001b[0;32m     17\u001b[0m                 \u001b[0mprint\u001b[0m\u001b[1;33m(\u001b[0m\u001b[1;34m\"Trying\"\u001b[0m\u001b[1;33m,\u001b[0m \u001b[0mparams\u001b[0m\u001b[1;33m)\u001b[0m\u001b[1;33m\u001b[0m\u001b[1;33m\u001b[0m\u001b[0m\n\u001b[1;32m---> 18\u001b[1;33m                 \u001b[0mmodel\u001b[0m\u001b[1;33m,\u001b[0m \u001b[0mvalidScore\u001b[0m\u001b[1;33m,\u001b[0m \u001b[0mhist\u001b[0m \u001b[1;33m=\u001b[0m \u001b[0mtrain_gru\u001b[0m\u001b[1;33m(\u001b[0m\u001b[1;33m**\u001b[0m\u001b[0mparams\u001b[0m\u001b[1;33m)\u001b[0m\u001b[1;33m\u001b[0m\u001b[1;33m\u001b[0m\u001b[0m\n\u001b[0m\u001b[0;32m     19\u001b[0m                 \u001b[1;32mif\u001b[0m \u001b[0mvalidScore\u001b[0m \u001b[1;33m<\u001b[0m \u001b[0mbest_score\u001b[0m\u001b[1;33m:\u001b[0m\u001b[1;33m\u001b[0m\u001b[1;33m\u001b[0m\u001b[0m\n\u001b[0;32m     20\u001b[0m                     \u001b[0mprint\u001b[0m\u001b[1;33m(\u001b[0m\u001b[1;34m\"New best model\"\u001b[0m\u001b[1;33m,\u001b[0m \u001b[0mparams\u001b[0m\u001b[1;33m)\u001b[0m\u001b[1;33m\u001b[0m\u001b[1;33m\u001b[0m\u001b[0m\n",
      "\u001b[1;32m~\\AppData\\Local\\Temp\\ipykernel_13508\\1923485171.py\u001b[0m in \u001b[0;36mtrain_gru\u001b[1;34m(batch_size, lr, num_epochs, hidden_dim, num_layers)\u001b[0m\n\u001b[0;32m     32\u001b[0m \u001b[1;33m\u001b[0m\u001b[0m\n\u001b[0;32m     33\u001b[0m         \u001b[0mmodel\u001b[0m\u001b[1;33m.\u001b[0m\u001b[0meval\u001b[0m\u001b[1;33m(\u001b[0m\u001b[1;33m)\u001b[0m\u001b[1;33m\u001b[0m\u001b[1;33m\u001b[0m\u001b[0m\n\u001b[1;32m---> 34\u001b[1;33m         \u001b[0mpredict_train\u001b[0m \u001b[1;33m=\u001b[0m \u001b[0mmodel\u001b[0m\u001b[1;33m(\u001b[0m\u001b[0mX_train\u001b[0m\u001b[1;33m)\u001b[0m\u001b[1;33m\u001b[0m\u001b[1;33m\u001b[0m\u001b[0m\n\u001b[0m\u001b[0;32m     35\u001b[0m         \u001b[0mpredict_train\u001b[0m \u001b[1;33m=\u001b[0m \u001b[0mpd\u001b[0m\u001b[1;33m.\u001b[0m\u001b[0mDataFrame\u001b[0m\u001b[1;33m(\u001b[0m\u001b[0mpredict_train\u001b[0m\u001b[1;33m.\u001b[0m\u001b[0mdetach\u001b[0m\u001b[1;33m(\u001b[0m\u001b[1;33m)\u001b[0m\u001b[1;33m.\u001b[0m\u001b[0mnumpy\u001b[0m\u001b[1;33m(\u001b[0m\u001b[1;33m)\u001b[0m\u001b[1;33m)\u001b[0m\u001b[1;33m\u001b[0m\u001b[1;33m\u001b[0m\u001b[0m\n\u001b[0;32m     36\u001b[0m         \u001b[0mtrainScore\u001b[0m \u001b[1;33m=\u001b[0m \u001b[0mmean_squared_error\u001b[0m\u001b[1;33m(\u001b[0m\u001b[0my_train_numpy\u001b[0m\u001b[1;33m,\u001b[0m \u001b[0mpredict_train\u001b[0m\u001b[1;33m,\u001b[0m \u001b[0msquared\u001b[0m\u001b[1;33m=\u001b[0m\u001b[1;32mFalse\u001b[0m\u001b[1;33m)\u001b[0m\u001b[1;33m\u001b[0m\u001b[1;33m\u001b[0m\u001b[0m\n",
      "\u001b[1;32m~\\anaconda3\\lib\\site-packages\\torch\\nn\\modules\\module.py\u001b[0m in \u001b[0;36m_call_impl\u001b[1;34m(self, *input, **kwargs)\u001b[0m\n\u001b[0;32m   1188\u001b[0m         if not (self._backward_hooks or self._forward_hooks or self._forward_pre_hooks or _global_backward_hooks\n\u001b[0;32m   1189\u001b[0m                 or _global_forward_hooks or _global_forward_pre_hooks):\n\u001b[1;32m-> 1190\u001b[1;33m             \u001b[1;32mreturn\u001b[0m \u001b[0mforward_call\u001b[0m\u001b[1;33m(\u001b[0m\u001b[1;33m*\u001b[0m\u001b[0minput\u001b[0m\u001b[1;33m,\u001b[0m \u001b[1;33m**\u001b[0m\u001b[0mkwargs\u001b[0m\u001b[1;33m)\u001b[0m\u001b[1;33m\u001b[0m\u001b[1;33m\u001b[0m\u001b[0m\n\u001b[0m\u001b[0;32m   1191\u001b[0m         \u001b[1;31m# Do not call functions when jit is used\u001b[0m\u001b[1;33m\u001b[0m\u001b[1;33m\u001b[0m\u001b[0m\n\u001b[0;32m   1192\u001b[0m         \u001b[0mfull_backward_hooks\u001b[0m\u001b[1;33m,\u001b[0m \u001b[0mnon_full_backward_hooks\u001b[0m \u001b[1;33m=\u001b[0m \u001b[1;33m[\u001b[0m\u001b[1;33m]\u001b[0m\u001b[1;33m,\u001b[0m \u001b[1;33m[\u001b[0m\u001b[1;33m]\u001b[0m\u001b[1;33m\u001b[0m\u001b[1;33m\u001b[0m\u001b[0m\n",
      "\u001b[1;32m~\\AppData\\Local\\Temp\\ipykernel_13508\\167894823.py\u001b[0m in \u001b[0;36mforward\u001b[1;34m(self, x)\u001b[0m\n\u001b[0;32m     10\u001b[0m     \u001b[1;32mdef\u001b[0m \u001b[0mforward\u001b[0m\u001b[1;33m(\u001b[0m\u001b[0mself\u001b[0m\u001b[1;33m,\u001b[0m \u001b[0mx\u001b[0m\u001b[1;33m)\u001b[0m\u001b[1;33m:\u001b[0m\u001b[1;33m\u001b[0m\u001b[1;33m\u001b[0m\u001b[0m\n\u001b[0;32m     11\u001b[0m         \u001b[0mh0\u001b[0m \u001b[1;33m=\u001b[0m \u001b[0mtorch\u001b[0m\u001b[1;33m.\u001b[0m\u001b[0mzeros\u001b[0m\u001b[1;33m(\u001b[0m\u001b[0mself\u001b[0m\u001b[1;33m.\u001b[0m\u001b[0mnum_layers\u001b[0m\u001b[1;33m,\u001b[0m \u001b[0mx\u001b[0m\u001b[1;33m.\u001b[0m\u001b[0msize\u001b[0m\u001b[1;33m(\u001b[0m\u001b[1;36m0\u001b[0m\u001b[1;33m)\u001b[0m\u001b[1;33m,\u001b[0m \u001b[0mself\u001b[0m\u001b[1;33m.\u001b[0m\u001b[0mhidden_dim\u001b[0m\u001b[1;33m)\u001b[0m\u001b[1;33m.\u001b[0m\u001b[0mrequires_grad_\u001b[0m\u001b[1;33m(\u001b[0m\u001b[1;33m)\u001b[0m\u001b[1;33m\u001b[0m\u001b[1;33m\u001b[0m\u001b[0m\n\u001b[1;32m---> 12\u001b[1;33m         \u001b[0mout\u001b[0m\u001b[1;33m,\u001b[0m \u001b[1;33m(\u001b[0m\u001b[0mhn\u001b[0m\u001b[1;33m)\u001b[0m \u001b[1;33m=\u001b[0m \u001b[0mself\u001b[0m\u001b[1;33m.\u001b[0m\u001b[0mgru\u001b[0m\u001b[1;33m(\u001b[0m\u001b[0mx\u001b[0m\u001b[1;33m,\u001b[0m \u001b[1;33m(\u001b[0m\u001b[0mh0\u001b[0m\u001b[1;33m.\u001b[0m\u001b[0mdetach\u001b[0m\u001b[1;33m(\u001b[0m\u001b[1;33m)\u001b[0m\u001b[1;33m)\u001b[0m\u001b[1;33m)\u001b[0m\u001b[1;33m\u001b[0m\u001b[1;33m\u001b[0m\u001b[0m\n\u001b[0m\u001b[0;32m     13\u001b[0m         \u001b[0mout\u001b[0m \u001b[1;33m=\u001b[0m \u001b[0mself\u001b[0m\u001b[1;33m.\u001b[0m\u001b[0mfc\u001b[0m\u001b[1;33m(\u001b[0m\u001b[0mout\u001b[0m\u001b[1;33m[\u001b[0m\u001b[1;33m:\u001b[0m\u001b[1;33m,\u001b[0m \u001b[1;33m-\u001b[0m\u001b[1;36m1\u001b[0m\u001b[1;33m,\u001b[0m \u001b[1;33m:\u001b[0m\u001b[1;33m]\u001b[0m\u001b[1;33m)\u001b[0m\u001b[1;33m\u001b[0m\u001b[1;33m\u001b[0m\u001b[0m\n\u001b[0;32m     14\u001b[0m         \u001b[1;32mreturn\u001b[0m \u001b[0mout\u001b[0m\u001b[1;33m\u001b[0m\u001b[1;33m\u001b[0m\u001b[0m\n",
      "\u001b[1;32m~\\anaconda3\\lib\\site-packages\\torch\\nn\\modules\\module.py\u001b[0m in \u001b[0;36m_call_impl\u001b[1;34m(self, *input, **kwargs)\u001b[0m\n\u001b[0;32m   1188\u001b[0m         if not (self._backward_hooks or self._forward_hooks or self._forward_pre_hooks or _global_backward_hooks\n\u001b[0;32m   1189\u001b[0m                 or _global_forward_hooks or _global_forward_pre_hooks):\n\u001b[1;32m-> 1190\u001b[1;33m             \u001b[1;32mreturn\u001b[0m \u001b[0mforward_call\u001b[0m\u001b[1;33m(\u001b[0m\u001b[1;33m*\u001b[0m\u001b[0minput\u001b[0m\u001b[1;33m,\u001b[0m \u001b[1;33m**\u001b[0m\u001b[0mkwargs\u001b[0m\u001b[1;33m)\u001b[0m\u001b[1;33m\u001b[0m\u001b[1;33m\u001b[0m\u001b[0m\n\u001b[0m\u001b[0;32m   1191\u001b[0m         \u001b[1;31m# Do not call functions when jit is used\u001b[0m\u001b[1;33m\u001b[0m\u001b[1;33m\u001b[0m\u001b[0m\n\u001b[0;32m   1192\u001b[0m         \u001b[0mfull_backward_hooks\u001b[0m\u001b[1;33m,\u001b[0m \u001b[0mnon_full_backward_hooks\u001b[0m \u001b[1;33m=\u001b[0m \u001b[1;33m[\u001b[0m\u001b[1;33m]\u001b[0m\u001b[1;33m,\u001b[0m \u001b[1;33m[\u001b[0m\u001b[1;33m]\u001b[0m\u001b[1;33m\u001b[0m\u001b[1;33m\u001b[0m\u001b[0m\n",
      "\u001b[1;32m~\\anaconda3\\lib\\site-packages\\torch\\nn\\modules\\rnn.py\u001b[0m in \u001b[0;36mforward\u001b[1;34m(self, input, hx)\u001b[0m\n\u001b[0;32m    953\u001b[0m         \u001b[0mself\u001b[0m\u001b[1;33m.\u001b[0m\u001b[0mcheck_forward_args\u001b[0m\u001b[1;33m(\u001b[0m\u001b[0minput\u001b[0m\u001b[1;33m,\u001b[0m \u001b[0mhx\u001b[0m\u001b[1;33m,\u001b[0m \u001b[0mbatch_sizes\u001b[0m\u001b[1;33m)\u001b[0m\u001b[1;33m\u001b[0m\u001b[1;33m\u001b[0m\u001b[0m\n\u001b[0;32m    954\u001b[0m         \u001b[1;32mif\u001b[0m \u001b[0mbatch_sizes\u001b[0m \u001b[1;32mis\u001b[0m \u001b[1;32mNone\u001b[0m\u001b[1;33m:\u001b[0m\u001b[1;33m\u001b[0m\u001b[1;33m\u001b[0m\u001b[0m\n\u001b[1;32m--> 955\u001b[1;33m             result = _VF.gru(input, hx, self._flat_weights, self.bias, self.num_layers,\n\u001b[0m\u001b[0;32m    956\u001b[0m                              self.dropout, self.training, self.bidirectional, self.batch_first)\n\u001b[0;32m    957\u001b[0m         \u001b[1;32melse\u001b[0m\u001b[1;33m:\u001b[0m\u001b[1;33m\u001b[0m\u001b[1;33m\u001b[0m\u001b[0m\n",
      "\u001b[1;31mKeyboardInterrupt\u001b[0m: "
     ]
    }
   ],
   "source": [
    "# hidden_dim = 5\n",
    "# num_layers = 2\n",
    "# lr = 0.25\n",
    "\n",
    "num_epochs = 100\n",
    "best_score = float('inf')\n",
    "best_params = None\n",
    "best_model = None\n",
    "best_hist = None\n",
    "start_time = time.time()\n",
    "\n",
    "for batch_size in [128, 256]:\n",
    "    for lr in [0.5]:\n",
    "        for hidden_dim in [1000]:\n",
    "            for num_layers in [20]:\n",
    "                params = dict(batch_size=batch_size, lr=lr, num_epochs=num_epochs, hidden_dim=hidden_dim, num_layers=num_layers)\n",
    "                print(\"Trying\", params)\n",
    "                model, validScore, hist = train_gru(**params)\n",
    "                if validScore < best_score:\n",
    "                    print(\"New best model\", params)\n",
    "                    best_score = validScore\n",
    "                    best_params = params\n",
    "                    best_model = model\n",
    "                    best_hist = hist"
   ]
  },
  {
   "cell_type": "code",
   "execution_count": null,
   "metadata": {},
   "outputs": [],
   "source": [
    "training_time_gru = time.time()-start_time    \n",
    "print(\"Training time: {}\".format(training_time_gru))"
   ]
  },
  {
   "cell_type": "code",
   "execution_count": null,
   "metadata": {},
   "outputs": [],
   "source": [
    "best_params"
   ]
  },
  {
   "cell_type": "code",
   "execution_count": null,
   "metadata": {},
   "outputs": [],
   "source": [
    "model.eval()\n",
    "predict_train = best_model(X_train)\n",
    "predict_train = pd.DataFrame(predict_train.detach().numpy())"
   ]
  },
  {
   "cell_type": "code",
   "execution_count": null,
   "metadata": {},
   "outputs": [],
   "source": [
    "fig = plt.figure()\n",
    "fig.subplots_adjust(hspace=0.2, wspace=0.2)\n",
    "\n",
    "plt.subplot(1, 2, 1)\n",
    "ax = sns.lineplot(x = range(len(y_train_numpy)), y = y_train_numpy, label=\"Data\", color='royalblue')\n",
    "ax = sns.lineplot(x = predict_train.index, y = predict_train[0], label=\"Training Prediction (GRU)\", color='tomato')\n",
    "ax.set_title('Gold price', size = 14, fontweight='bold')\n",
    "ax.set_xlabel(\"Timescale (Days)\", size = 14)\n",
    "ax.set_ylabel(\"Scaled Cost (USD)\", size = 14)\n",
    "\n",
    "ax.tick_params(axis='x', labelsize=12.5)\n",
    "ax.tick_params(axis='y', labelsize=12.5)\n",
    "\n",
    "\n",
    "plt.subplot(1, 2, 2)\n",
    "ax = sns.lineplot(data=best_hist, color='royalblue')\n",
    "ax.set_xlabel(\"Epoch\", size = 14)\n",
    "ax.set_ylabel(\"Loss\", size = 14)\n",
    "ax.set_title(\"Training Loss\", size = 14, fontweight='bold')\n",
    "\n",
    "ax.tick_params(axis='x', labelsize=12.5)\n",
    "ax.tick_params(axis='y', labelsize=12.5)\n",
    "\n",
    "fig.set_figheight(6)\n",
    "fig.set_figwidth(16)"
   ]
  },
  {
   "cell_type": "markdown",
   "metadata": {},
   "source": [
    "#### Validation set"
   ]
  },
  {
   "cell_type": "code",
   "execution_count": null,
   "metadata": {},
   "outputs": [],
   "source": [
    "predict_valid = best_model(X_valid)\n",
    "predict_valid = pd.DataFrame(predict_valid.detach().numpy())"
   ]
  },
  {
   "cell_type": "code",
   "execution_count": null,
   "metadata": {},
   "outputs": [],
   "source": [
    "fig = plt.figure()\n",
    "fig.subplots_adjust(hspace=0.2, wspace=0.2)\n",
    "\n",
    "plt.subplot(1, 2, 1)\n",
    "ax = sns.lineplot(x = range(len(y_valid_numpy)), y = y_valid_numpy, label=\"Data\", color='royalblue')\n",
    "ax = sns.lineplot(x = predict_valid.index, y = predict_valid[0], label=\"Validation Prediction (GRU)\", color='tomato')\n",
    "ax.set_title('Gold price', size = 14, fontweight='bold')\n",
    "ax.set_xlabel(\"Timescale (Days)\", size = 14)\n",
    "ax.set_ylabel(\"Scaled Cost (USD)\", size = 14)\n",
    "\n",
    "ax.tick_params(axis='x', labelsize=12.5)\n",
    "ax.tick_params(axis='y', labelsize=12.5)\n",
    "\n",
    "fig.set_figheight(6)\n",
    "fig.set_figwidth(16)"
   ]
  },
  {
   "cell_type": "markdown",
   "metadata": {},
   "source": [
    "#### GRU prediction\n",
    "\n",
    "Now that we have our model ready, we can use it to forecast the Close Value of Gold by using a model trained using the GRU network on the test set. This is accomplished by employing the model predict function on the GRU model that has been created."
   ]
  },
  {
   "cell_type": "code",
   "execution_count": null,
   "metadata": {},
   "outputs": [],
   "source": [
    "# Generate predictions\n",
    "predict_test = best_model(X_test)\n",
    "predict_test = pd.DataFrame(predict_test.detach().numpy())"
   ]
  },
  {
   "cell_type": "code",
   "execution_count": null,
   "metadata": {},
   "outputs": [],
   "source": [
    "#Predicted vs True Close Value – GRU\n",
    "fig = plt.figure()\n",
    "fig.subplots_adjust(hspace=0.2, wspace=0.2)\n",
    "\n",
    "plt.subplot(1, 2, 1)\n",
    "ax = sns.lineplot(x = range(len(y_test_numpy)), y = y_test_numpy, label=\"True Value\", color='royalblue')\n",
    "ax = sns.lineplot(x = predict_test.index, y = predict_test[0], label=\"Testing Prediction (GRU)\", color='tomato')\n",
    "ax.set_title('GRU Prediction', size = 14, fontweight='bold')\n",
    "ax.set_xlabel(\"Timescale (Days)\", size = 14)\n",
    "ax.set_ylabel(\"Scaled USD\", size = 14)\n",
    "\n",
    "ax.tick_params(axis='x', labelsize=12.5)\n",
    "ax.tick_params(axis='y', labelsize=12.5)\n",
    "\n",
    "fig.set_figheight(6)\n",
    "fig.set_figwidth(16)"
   ]
  },
  {
   "cell_type": "code",
   "execution_count": null,
   "metadata": {},
   "outputs": [],
   "source": [
    "# calculate root mean squared error\n",
    "trainScore_gru = mean_squared_error(y_train_numpy, predict_train, squared=False)\n",
    "print('Train Score: %.3f RMSE' % (trainScore_gru))\n",
    "validScore_gru = mean_squared_error(y_valid_numpy, predict_valid, squared=False)\n",
    "print('Validation Score: %.3f RMSE' % (validScore_gru))\n",
    "testScore_gru = mean_squared_error(y_test_numpy, predict_test, squared=False)\n",
    "print('Test Score: %.3f RMSE' % (testScore_gru))"
   ]
  },
  {
   "cell_type": "code",
   "execution_count": null,
   "metadata": {},
   "outputs": [],
   "source": [
    "# calculate mean absolute error\n",
    "train_mae_gru = mean_absolute_error(y_train_numpy, predict_train)\n",
    "print('Train Score: %.3f MAE' % (train_mae_gru))\n",
    "valid_mae_gru = mean_absolute_error(y_valid_numpy, predict_valid)\n",
    "print('Validation Score: %.3f MAE' % (valid_mae_gru))\n",
    "test_mae_gru = mean_absolute_error(y_test_numpy, predict_test)\n",
    "print('Test Score: %.3f MAE' % (test_mae_gru))"
   ]
  },
  {
   "cell_type": "code",
   "execution_count": null,
   "metadata": {},
   "outputs": [],
   "source": [
    "# calculate r2\n",
    "train_r2_gru = r2_score(y_train_numpy, predict_train)\n",
    "print('Train Score: %.3f r2' % (train_r2_gru))\n",
    "valid_r2_gru = r2_score(y_valid_numpy, predict_valid)\n",
    "print('Validation Score: %.3f r2' % (valid_r2_gru))\n",
    "test_r2_gru = r2_score(y_test_numpy, predict_test)\n",
    "print('Test Score: %.3f r2' % (test_r2_gru))"
   ]
  },
  {
   "cell_type": "code",
   "execution_count": null,
   "metadata": {},
   "outputs": [],
   "source": [
    "#Training results\n",
    "lr = pd.DataFrame([trainScore_lr, train_mae_lr, train_r2_lr, training_time_lr], columns=['LR'])\n",
    "\n",
    "gru = pd.DataFrame([trainScore_gru, train_mae_gru, train_r2_gru, training_time_gru], columns=['GRU'])\n",
    "\n",
    "result = pd.concat([lr, gru], axis=1, join='inner')\n",
    "result.index = ['Train RMSE','Train MAE','Train r2','Train time']\n",
    "result = round(result,2)"
   ]
  },
  {
   "cell_type": "code",
   "execution_count": null,
   "metadata": {},
   "outputs": [],
   "source": [
    "#Validation results\n",
    "lr1 = pd.DataFrame([validScore_lr, valid_mae_lr, valid_r2_lr], columns=['LR'])\n",
    "\n",
    "gru1 = pd.DataFrame([validScore_gru, valid_mae_gru, valid_r2_gru], columns=['GRU'])\n",
    "\n",
    "result1 = pd.concat([lr1, gru1], axis=1, join='inner')\n",
    "result1.index = ['Validation RMSE', 'Validation MAE', 'Validation r2']\n",
    "result1 = round(result1,2)"
   ]
  },
  {
   "cell_type": "code",
   "execution_count": null,
   "metadata": {},
   "outputs": [],
   "source": [
    "#Test results\n",
    "lr2 = pd.DataFrame( [testScore_lr, test_mae_lr, test_r2_lr], columns=['LR'])\n",
    "\n",
    "gru2 = pd.DataFrame([testScore_gru, test_mae_gru, test_r2_gru], columns=['GRU'])\n",
    "\n",
    "result2 = pd.concat([lr2, gru2], axis=1, join='inner')\n",
    "result2.index = ['Test RMSE', 'Test MAE', 'Test r2']\n",
    "result2 = round(result2,2)"
   ]
  },
  {
   "cell_type": "code",
   "execution_count": null,
   "metadata": {},
   "outputs": [],
   "source": [
    "result"
   ]
  },
  {
   "cell_type": "code",
   "execution_count": null,
   "metadata": {},
   "outputs": [],
   "source": [
    "result1"
   ]
  },
  {
   "cell_type": "code",
   "execution_count": null,
   "metadata": {},
   "outputs": [],
   "source": [
    "result2"
   ]
  }
 ],
 "metadata": {
  "kernelspec": {
   "display_name": "Python 3 (ipykernel)",
   "language": "python",
   "name": "python3"
  },
  "language_info": {
   "codemirror_mode": {
    "name": "ipython",
    "version": 3
   },
   "file_extension": ".py",
   "mimetype": "text/x-python",
   "name": "python",
   "nbconvert_exporter": "python",
   "pygments_lexer": "ipython3",
   "version": "3.9.13"
  }
 },
 "nbformat": 4,
 "nbformat_minor": 4
}
